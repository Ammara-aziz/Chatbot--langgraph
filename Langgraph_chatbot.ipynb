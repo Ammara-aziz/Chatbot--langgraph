{
  "cells": [
    {
      "cell_type": "markdown",
      "metadata": {
        "id": "oXeom0VH1AIo"
      },
      "source": [
        "# Create an environment and install dependencies\n"
      ]
    },
    {
      "cell_type": "code",
      "execution_count": null,
      "metadata": {
        "colab": {
          "base_uri": "https://localhost:8080/"
        },
        "id": "XO110VNj1GXv",
        "outputId": "e2235818-706f-4924-bd2e-0d2134a6393c"
      },
      "outputs": [
        {
          "output_type": "stream",
          "name": "stdout",
          "text": [
            "\u001b[?25l   \u001b[90m━━━━━━━━━━━━━━━━━━━━━━━━━━━━━━━━━━━━━━━━\u001b[0m \u001b[32m0.0/125.1 kB\u001b[0m \u001b[31m?\u001b[0m eta \u001b[36m-:--:--\u001b[0m\r\u001b[2K   \u001b[90m━━━━━━━━━━━━━━━━━━━━━━━━━━━━━━━━━━━━━━━━\u001b[0m \u001b[32m125.1/125.1 kB\u001b[0m \u001b[31m5.0 MB/s\u001b[0m eta \u001b[36m0:00:00\u001b[0m\n",
            "\u001b[?25h\u001b[?25l   \u001b[90m━━━━━━━━━━━━━━━━━━━━━━━━━━━━━━━━━━━━━━━━\u001b[0m \u001b[32m0.0/310.9 kB\u001b[0m \u001b[31m?\u001b[0m eta \u001b[36m-:--:--\u001b[0m\r\u001b[2K   \u001b[90m━━━━━━━━━━━━━━━━━━━━━━━━━━━━━━━━━━━━━━━━\u001b[0m \u001b[32m310.9/310.9 kB\u001b[0m \u001b[31m17.4 MB/s\u001b[0m eta \u001b[36m0:00:00\u001b[0m\n",
            "\u001b[?25h"
          ]
        }
      ],
      "source": [
        "!pip install --quiet -U  langgraph langsmith\n"
      ]
    },
    {
      "cell_type": "code",
      "execution_count": null,
      "metadata": {
        "colab": {
          "base_uri": "https://localhost:8080/"
        },
        "id": "WPwaKC5aHIol",
        "outputId": "072afdf8-a28e-4a00-c213-74246fd40417"
      },
      "outputs": [
        {
          "output_type": "stream",
          "name": "stdout",
          "text": [
            "\u001b[?25l   \u001b[90m━━━━━━━━━━━━━━━━━━━━━━━━━━━━━━━━━━━━━━━━\u001b[0m \u001b[32m0.0/1.0 MB\u001b[0m \u001b[31m?\u001b[0m eta \u001b[36m-:--:--\u001b[0m\r\u001b[2K   \u001b[91m━━━━━━━━━━━━━━━━━━━━━━━━━━━━━━━━━━━━━━━\u001b[0m\u001b[91m╸\u001b[0m \u001b[32m1.0/1.0 MB\u001b[0m \u001b[31m38.1 MB/s\u001b[0m eta \u001b[36m0:00:01\u001b[0m\r\u001b[2K   \u001b[90m━━━━━━━━━━━━━━━━━━━━━━━━━━━━━━━━━━━━━━━━\u001b[0m \u001b[32m1.0/1.0 MB\u001b[0m \u001b[31m25.5 MB/s\u001b[0m eta \u001b[36m0:00:00\u001b[0m\n",
            "\u001b[2K   \u001b[90m━━━━━━━━━━━━━━━━━━━━━━━━━━━━━━━━━━━━━━━━\u001b[0m \u001b[32m2.4/2.4 MB\u001b[0m \u001b[31m79.2 MB/s\u001b[0m eta \u001b[36m0:00:00\u001b[0m\n",
            "\u001b[2K   \u001b[90m━━━━━━━━━━━━━━━━━━━━━━━━━━━━━━━━━━━━━━━━\u001b[0m \u001b[32m108.9/108.9 kB\u001b[0m \u001b[31m9.9 MB/s\u001b[0m eta \u001b[36m0:00:00\u001b[0m\n",
            "\u001b[2K   \u001b[90m━━━━━━━━━━━━━━━━━━━━━━━━━━━━━━━━━━━━━━━━\u001b[0m \u001b[32m409.5/409.5 kB\u001b[0m \u001b[31m31.2 MB/s\u001b[0m eta \u001b[36m0:00:00\u001b[0m\n",
            "\u001b[2K   \u001b[90m━━━━━━━━━━━━━━━━━━━━━━━━━━━━━━━━━━━━━━━━\u001b[0m \u001b[32m3.1/3.1 MB\u001b[0m \u001b[31m83.3 MB/s\u001b[0m eta \u001b[36m0:00:00\u001b[0m\n",
            "\u001b[2K   \u001b[90m━━━━━━━━━━━━━━━━━━━━━━━━━━━━━━━━━━━━━━━━\u001b[0m \u001b[32m49.5/49.5 kB\u001b[0m \u001b[31m4.5 MB/s\u001b[0m eta \u001b[36m0:00:00\u001b[0m\n",
            "\u001b[?25h"
          ]
        }
      ],
      "source": [
        "!pip install --quiet -U langchain langchain-groq langchain_community"
      ]
    },
    {
      "cell_type": "code",
      "execution_count": null,
      "metadata": {
        "colab": {
          "base_uri": "https://localhost:8080/"
        },
        "id": "KMc4mh4kH6j_",
        "outputId": "c3e9e8e9-9c2c-4c03-ece5-5412c87a9a55"
      },
      "outputs": [
        {
          "output_type": "stream",
          "name": "stdout",
          "text": [
            "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\n"
          ]
        }
      ],
      "source": [
        "from google.colab import userdata\n",
        "\n",
        "# 1. Fetch and Set API Keys\n",
        "Grok_api_key = userdata.get('GROK_API_KEY')\n",
        "Lanchain_api__key = userdata.get('LANGCHAIN_API_KEY')\n",
        "\n",
        "print(Grok_api_key)"
      ]
    },
    {
      "cell_type": "markdown",
      "metadata": {
        "id": "_YSMnbC2MQWQ"
      },
      "source": [
        "Import Required Libraries"
      ]
    },
    {
      "cell_type": "code",
      "execution_count": null,
      "metadata": {
        "id": "_O7HGHkqMA4h"
      },
      "outputs": [],
      "source": [
        "import os\n",
        "\n",
        "# Set the API keys as environment variables for later use\n",
        "os.environ['GROK_API_KEY'] = Grok_api_key\n",
        "os.environ['LANGCHAIN_API_KEY'] = Lanchain_api__key\n"
      ]
    },
    {
      "cell_type": "code",
      "execution_count": null,
      "metadata": {
        "colab": {
          "base_uri": "https://localhost:8080/"
        },
        "id": "M5D2kKq-NP5s",
        "outputId": "d9072b72-fefc-42d0-c385-d0420df5dd80"
      },
      "outputs": [
        {
          "name": "stdout",
          "output_type": "stream",
          "text": [
            "ChatGroq initialized successfully!\n"
          ]
        }
      ],
      "source": [
        "from langchain_groq import ChatGroq\n",
        "\n",
        "# Initialize ChatGroq instance\n",
        "llm : ChatGroq = ChatGroq(\n",
        "    api_key = Grok_api_key  ,        # Provide the Grok API key for authentication\n",
        "    model=\"llama-3.1-8b-instant\",\n",
        "    temperature=0.7\n",
        ")\n",
        "\n",
        "# Test the initialization\n",
        "print(\"ChatGroq initialized successfully!\")\n",
        " # Initialize an instance of Grok AI\n",
        "# grok_ai = GrokAI(\n",
        "#     api_key=your_grok_api_key,  # Provide your Grok API key\n",
        "#     model=\"grok_model_name\"      # Specify the model to use if applicable\n",
        "# )"
      ]
    },
    {
      "cell_type": "code",
      "execution_count": null,
      "metadata": {
        "id": "sf6B_VTjQ66N"
      },
      "outputs": [],
      "source": [
        "from typing import Annotated\n",
        "from typing_extensions import TypedDict\n",
        "from langgraph.graph import StateGraph, START,END\n",
        "from langgraph.graph.message import add_messages\n",
        "from langgraph.graph.state import CompiledStateGraph\n",
        "from langchain_core.runnables.graph import MermaidDrawMethod\n",
        "from IPython.display import display, Image\n",
        "\n"
      ]
    },
    {
      "cell_type": "markdown",
      "metadata": {
        "id": "4P4VBKXmUosU"
      },
      "source": [
        "# # 3. Define Graph and State Management"
      ]
    },
    {
      "cell_type": "code",
      "execution_count": null,
      "metadata": {
        "id": "0hSBLHCrdaYL"
      },
      "outputs": [],
      "source": [
        "# Define State and Initialize LLM\n",
        "class Dfj(TypedDict):\n",
        "  messages : Annotated[list, add_messages]\n",
        "\n",
        "  # Initialize StateGraph\n",
        "graph_builder= StateGraph(Dfj)\n",
        "\n",
        "# Node Functions -> uses the ChatGroq instance\n",
        "def chatbot(state:Dfj):\n",
        "  return {\"messages\":llm.invoke(state['messages'])}"
      ]
    },
    {
      "cell_type": "markdown",
      "metadata": {
        "id": "ABe8XefgbOQg"
      },
      "source": [
        "# Create Tools and Build Workflow\n",
        " *  Builds the StateGraph workflow."
      ]
    },
    {
      "cell_type": "code",
      "execution_count": null,
      "metadata": {
        "id": "m24p-UU-Zx5r"
      },
      "outputs": [],
      "source": [
        "# Add nodes to the graph\n",
        "graph_builder.add_node(\"chatbot\", chatbot)\n",
        "\n",
        "# Add edges to the graph\n",
        "graph_builder.add_edge(START,\"chatbot\")\n",
        "graph_builder.add_edge(\"chatbot\",END)\n",
        "\n",
        "# Compile the graph\n",
        "graph = graph_builder.compile()"
      ]
    },
    {
      "cell_type": "code",
      "execution_count": null,
      "metadata": {
        "colab": {
          "base_uri": "https://localhost:8080/",
          "height": 251
        },
        "id": "2k4smK2ljCtk",
        "outputId": "8ba8c2d7-240c-4471-83fe-1e1b701d4beb"
      },
      "outputs": [
        {
          "data": {
            "image/png": "[encoded data removed]",
            "text/plain": [
              "<IPython.core.display.Image object>"
            ]
          },
          "metadata": {},
          "output_type": "display_data"
        }
      ],
      "source": [
        "\n",
        "display(\n",
        "    Image(\n",
        "        graph.get_graph().draw_mermaid_png(\n",
        "            draw_method=MermaidDrawMethod.API,\n",
        "        )\n",
        "    )\n",
        ")\n"
      ]
    },
    {
      "cell_type": "code",
      "execution_count": null,
      "metadata": {
        "colab": {
          "base_uri": "https://localhost:8080/"
        },
        "id": "WM6OP4HcpwOQ",
        "outputId": "5e5bf647-5eef-499e-edc5-821f5a59e9f4"
      },
      "outputs": [
        {
          "output_type": "stream",
          "name": "stdout",
          "text": [
            "User : hey\n",
            "An error occurred: name 'graph' is not defined\n"
          ]
        }
      ],
      "source": [
        "#  Conversation Loop\n",
        "state = {\"messages\": []}\n",
        "while True:\n",
        "    user_input = input(\"User : \")\n",
        "    if  user_input.lower() in [\"quit\", \"q\"] :\n",
        "      print(\"GOOD BYE \\U0001F60A\")\n",
        "      # Save the conversation history on exit\n",
        "      with open(\"conversation_history.json\", \"w\") as f:\n",
        "          json.dump(state[\"messages\"], f)\n",
        "      break\n",
        "\n",
        "      # Handle memory clearing\n",
        "      if user_input.lower() == \"clear memory\":\n",
        "        state[\"messages\"] = []\n",
        "        print(\"Memory cleared!\")\n",
        "        continue\n",
        "\n",
        "    # Append user input to the conversation history\n",
        "    state[\"messages\"].append({\"role\": \"user\", \"content\": user_input})\n",
        "\n",
        "\n",
        "    try:\n",
        "    # Stream events from the graph\n",
        "        for event in graph.stream({\"messages\": (\"user\", user_input)}):\n",
        "        # Call the values() method and store the result\n",
        "            values = event.values()  # Ensure you call the method correctly\n",
        "\n",
        "        # Check the type of values to debug\n",
        "            print(\"Values:\", values)  # Inspect the returned data\n",
        "            print(\"Type of values:\", type(values))  # Confirm the type (likely dict or iterable)\n",
        "\n",
        "        # Iterate over the values if they are iterable\n",
        "            for value in values:  # Assuming values is an iterable (e.g., list, dict, etc.)\n",
        "            # Safely access the 'messages' field if it exists\n",
        "                if 'messages' in value:\n",
        "                   print(\"Messages:\", value['messages'])  # Display 'messages' field\n",
        "                   print(\"Assistant:\", value[\"messages\"].content)  # Display the message content if accessible\n",
        "            # Truncate history to avoid token limit issues\n",
        "            state[\"messages\"] = state[\"messages\"][-20:]  # Keep only the last 20 messages\n",
        "    except Exception as e:\n",
        "      print(f\"An error occurred: {e}\")\n"
      ]
    }
  ],
  "metadata": {
    "accelerator": "GPU",
    "colab": {
      "gpuType": "T4",
      "provenance": []
    },
    "kernelspec": {
      "display_name": "Python 3",
      "name": "python3"
    },
    "language_info": {
      "name": "python"
    }
  },
  "nbformat": 4,
  "nbformat_minor": 0
}